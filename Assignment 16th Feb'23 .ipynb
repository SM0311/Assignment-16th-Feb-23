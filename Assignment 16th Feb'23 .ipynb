{
 "cells": [
  {
   "cell_type": "markdown",
   "id": "926c903b-e067-42e8-9c79-733cb52d5c6f",
   "metadata": {},
   "source": [
    "Q1. What is a database? Differentiate between SQL and NoSQL databases."
   ]
  },
  {
   "cell_type": "markdown",
   "id": "e9e55ff5-f3ac-4c3d-9c6c-46198084e27f",
   "metadata": {},
   "source": [
    "Answer 1. A database is a collection of data that is organized and managed in a way that enables efficient storage, retrieval, and manipulation of the data. Databases are used to store and manage data for a wide range of applications, including web applications, business applications, scientific research, and more.\n",
    "\n",
    "There are two main types of databases: SQL and NoSQL.\n",
    "\n",
    "SQL (Structured Query Language) databases are relational databases that store data in tables with fixed columns and rows. SQL databases are organized around a schema, which defines the structure of the tables and the relationships between them. SQL databases use SQL to interact with the data, and support a wide range of operations such as querying, inserting, updating, and deleting data.\n",
    "\n",
    "NoSQL (Not Only SQL) databases, on the other hand, are non-relational databases that store data in a variety of ways, such as key-value pairs, documents, graphs, or columns. NoSQL databases are schema-less, meaning that the data can be stored in a flexible way without the need for a predefined schema. NoSQL databases are designed to handle large volumes of unstructured or semi-structured data, and provide high scalability and performance.\n",
    "\n",
    "The main differences between SQL and NoSQL databases can be summarized as follows:\n",
    "\n",
    "Data model: SQL databases use a structured, tabular data model, while NoSQL databases use a variety of data models such as key-value, document, graph, or column.\n",
    "\n",
    "Schema: SQL databases use a schema to define the structure of the data, while NoSQL databases are schema-less and allow for more flexible data storage.\n",
    "\n",
    "Query language: SQL databases use SQL to interact with the data, while NoSQL databases may use a variety of query languages, depending on the data model.\n",
    "\n",
    "Scalability: NoSQL databases are designed to scale horizontally across multiple nodes, while SQL databases typically scale vertically by adding more resources to a single node.\n",
    "\n",
    "Performance: NoSQL databases are optimized for performance, particularly in handling large volumes of data, while SQL databases may be slower when dealing with complex queries or large datasets.\n",
    "\n",
    "Overall, the choice between SQL and NoSQL databases depends on the specific needs of the application and the type of data being stored. SQL databases are often used for applications with well-defined data structures and complex querying needs, while NoSQL databases are preferred for applications that require high scalability, performance, and flexibility in data storage.\n"
   ]
  },
  {
   "cell_type": "markdown",
   "id": "adcad6a2-8b5a-4a12-944b-2a3d61afafa2",
   "metadata": {},
   "source": [
    "Q2. What is DDL? Explain why CREATE, DROP, ALTER, and TRUNCATE are used with an example."
   ]
  },
  {
   "cell_type": "markdown",
   "id": "c9e829b2-9e8c-44bf-9652-d2cde7098c55",
   "metadata": {},
   "source": [
    "Answer 2. DDL stands for Data Definition Language, which is a set of SQL commands used to define and manipulate the structure of a database. DDL statements are used to create, alter, and delete database objects such as tables, indexes, and views.\n",
    "\n",
    "\n",
    "1. CREATE:\n",
    "The CREATE statement is used to create new database objects such as tables, views, indexes, and procedures. For example, to create a new table named \"students\" with columns \"id,\" \"name,\" and \"age,\" you would use the following command:\n",
    "\n",
    "Example - Create a table called “Dept” with 5 columns in it.\n",
    "\n",
    "          Create table Dept\n",
    "          (\n",
    "          Dept_ID varchar(5) NOT NULL,\n",
    "          Dept_Name char(10) NULL,\n",
    "          DOJ Date NULL,\n",
    "          Pincode Numeric(8) NULL,\n",
    "          Due_Date Date NULL\n",
    "          );\n",
    "\n",
    "\n",
    "2. DROP:\n",
    "The DROP statement is used to delete database objects such as tables, views, indexes, and procedures. For example, to delete a table named \"DOJ\" the following syntax would be used:\n",
    "\n",
    "         DROP TABLE DOJ;\n",
    "\n",
    "\n",
    "3. ALTER:\n",
    "The ALTER statement is used to modify the structure of an existing database object. For example, to add a new column named \"email\" to the \"Dept\" table, the following syntax would be used:    \n",
    "\n",
    "        ALTER TABLE Dept ADD email VARCHAR(50);\n",
    "\n",
    "\n",
    "4. TRUNCATE:\n",
    "The TRUNCATE statement is used to delete all the data from a table, but it does not delete the table structure. For example, to remove all data from the \"Dept\" table, you would use the following command:\n",
    "\n",
    "        TRUNCATE TABLE Dept;\n",
    "    "
   ]
  },
  {
   "cell_type": "markdown",
   "id": "477b75f0-b60c-4b57-b409-b7b03c5d6bb3",
   "metadata": {},
   "source": [
    "Q3. What is DML? Explain INSERT, UPDATE, and DELETE with an example."
   ]
  },
  {
   "cell_type": "markdown",
   "id": "c7ceeca2-ba99-4a95-af8c-ca7220bb6c55",
   "metadata": {},
   "source": [
    "Answer 3. DML stands for Data Manipulation Language, which is a set of SQL commands used to manipulate the data within a database. DML statements include INSERT, UPDATE, and DELETE, which are used to add, modify, and delete data within a database.\n",
    "\n",
    "1. INSERT:\n",
    "The INSERT statement is used to add new data to a database table. For example, to add a new record to the \"Dept\" table with the values \"1\" for the \"Dept_ID\" column, \"Maths\" for the \"Dept_name\" column, and \"123456\" for the \"Pincode\" column, the following syntax would be used.\n",
    "\n",
    "         Insert into dept(Dept_ID, Dept_name, Pincode)\n",
    "         values(1, 'Maths', 123456);\n",
    "         \n",
    "         \n",
    "2. UPDATE:\n",
    "The UPDATE statement is used to modify existing data in a database table. For example, to update the pincode of the record with id 1 in the \"Dept\" table to 789012,  the following syntax would be used:\n",
    "\n",
    "         Update Dept set Pincode = 789012 where dept_ID = 1;\n",
    "         \n",
    "\n",
    "3. DELETE:\n",
    "The DELETE statement is used to remove existing data from a database table. For example, to remove the record from Dept_ID 1 from the Dept table the following command would be used.\n",
    "\n",
    "         Delete from Dept where Dept_id = 1;\n",
    "         \n"
   ]
  },
  {
   "cell_type": "markdown",
   "id": "30c86486-a540-434c-932f-578e5e9fb013",
   "metadata": {},
   "source": [
    "Q4. What is DQL? Explain SELECT with an example."
   ]
  },
  {
   "cell_type": "markdown",
   "id": "9b5b5825-102a-4a25-a622-32a96b4786a8",
   "metadata": {},
   "source": [
    "Answer 4. DQL stands for Data Query Language, which is a set of SQL commands used to retrieve data from a database.\n",
    "\n",
    "SELECT:\n",
    "The SELECT statement is used to retrieve data from a database table. For example, to retrieve all data from the \"Dept\" table, the following syntax would be used.\n",
    "\n",
    "\n",
    "        Select * from Dept;\n",
    "\n",
    "This command retrieves all the columns and all the rows from the \"Dept\" table. If  there is specific requirement to retrieve the data from sppecific coloum or Rows, this SELECT can be used to retrieve the data.\n",
    "\n",
    "For instance - To retrieve only the \"Dept_name\" and \"DOJ\" columns from the Dept table the following syntax would be used.\n",
    "\n",
    "       Select Dept_name, DOJ from Dept;"
   ]
  },
  {
   "cell_type": "markdown",
   "id": "01db570f-b822-4dac-92c2-5bba54a521d6",
   "metadata": {},
   "source": [
    "Q5. Explain Primary Key and Foreign Key."
   ]
  },
  {
   "cell_type": "markdown",
   "id": "627b2ed4-ea34-4b00-b5f9-c2334903c06e",
   "metadata": {},
   "source": [
    "Answer 5. In database design, a primary key is a field or combination of fields in a database table that uniquely identifies each record in the table. It is a column or set of columns whose values uniquely identify each row in a table. A primary key must be unique, not-null, and immutable. It is used to enforce data integrity by ensuring that there are no duplicate records in a table.\n",
    "\n",
    "For example, consider a table named \"students\" that has columns named \"id,\" \"name,\" and \"age.\" The \"id\" column can be designated as the primary key of the table because it uniquely identifies each record in the table.\n",
    "\n",
    "A foreign key is a field in a database table that refers to the primary key of another table. It is used to establish a relationship between two tables. The foreign key in one table is used to reference the primary key in another table. A foreign key can be used to enforce referential integrity by ensuring that any values in the foreign key column must correspond to existing values in the referenced primary key column.\n",
    "\n",
    "For example, consider a table named \"enrollments\" that has columns named \"student_id\" and \"course_id.\" The \"student_id\" column can be designated as a foreign key that references the \"id\" column of the \"students\" table. This relationship ensures that any value in the \"student_id\" column must correspond to an existing value in the \"id\" column of the \"students\" table, thus ensuring referential integrity.\n",
    "\n",
    "In summary, a primary key is a field or combination of fields that uniquely identifies each record in a table, while a foreign key is a field in a table that references the primary key of another table to establish a relationship between the two tables."
   ]
  },
  {
   "cell_type": "markdown",
   "id": "60352f0b-5ac1-4d08-9985-8943d7a74c65",
   "metadata": {},
   "source": [
    "Q6. Write a python code to connect MySQL to python. Explain the cursor() and execute() method."
   ]
  },
  {
   "cell_type": "code",
   "execution_count": null,
   "id": "4ea586d1-d9c5-44f2-9445-a847e5fce9a9",
   "metadata": {},
   "outputs": [],
   "source": [
    "import mysql.connector\n",
    "\n",
    "mydb = mysql.connector.connect(\n",
    "  host=\"localhost\",\n",
    "  user=\"username\",\n",
    "  password=\"password\",\n",
    "  database=\"database\"\n",
    ")\n",
    "\n",
    "mycursor = mydb.cursor()\n",
    "\n",
    "mycursor.execute(\"SELECT * FROM Emptable\")\n",
    "\n",
    "result = mycursor.fetchall()\n",
    "\n",
    "for row in result:\n",
    "    print(row)"
   ]
  },
  {
   "cell_type": "markdown",
   "id": "fd1eb4e0-1304-4525-8dc2-4722b263d092",
   "metadata": {},
   "source": [
    "In the above example, first import the mysql.connector module and then establish a connection to a MySQL database using the connect() method. Then pass the host, user, password, and database name as parameters to the connect() method.\n",
    "\n",
    "Next, create a cursor object using the cursor() method of the connection object. The cursor object is used to execute SQL queries and fetch results from the database.\n",
    "\n",
    "Then execute a SQL query using the execute() method of the cursor object. The SQL query \"SELECT * FROM Emptable\" selects all rows and columns from a table named \"Emptable\".\n",
    "\n",
    "Fetch the results of the query using the fetchall() method of the cursor object, which returns a list of tuples representing the rows in the result set.\n",
    "\n",
    "Finally, iterate over the result set and print each row using a for loop.\n",
    "\n",
    "In summary, the cursor() method is used to create a cursor object that can be used to execute SQL queries and fetch results from the database, while the execute() method is used to execute an SQL query on the database.\n"
   ]
  },
  {
   "cell_type": "markdown",
   "id": "708c904f-f53a-48fb-8ca4-c4e045f522a3",
   "metadata": {},
   "source": [
    "Q7. Give the order of execution of SQL clauses in an SQL query."
   ]
  }
 ],
 "metadata": {
  "kernelspec": {
   "display_name": "Python 3 (ipykernel)",
   "language": "python",
   "name": "python3"
  },
  "language_info": {
   "codemirror_mode": {
    "name": "ipython",
    "version": 3
   },
   "file_extension": ".py",
   "mimetype": "text/x-python",
   "name": "python",
   "nbconvert_exporter": "python",
   "pygments_lexer": "ipython3",
   "version": "3.10.8"
  }
 },
 "nbformat": 4,
 "nbformat_minor": 5
}
